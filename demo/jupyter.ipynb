{
 "cells": [
  {
   "cell_type": "code",
   "metadata": {},
   "source": ["%run fe.py --fe jupyter --run demos"],
   "outputs": [],
   "execution_count": null
  }
 ],
 "metadata": {
  "kernelspec": {
   "display_name": "Python 3",
   "language": "python",
   "name": "python3"
  }
 },
 "nbformat": 4,
 "nbformat_minor": 5
}
