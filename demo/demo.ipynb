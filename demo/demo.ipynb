{
 "cells": [
  {
   "cell_type": "code",
   "execution_count": null,
   "id": "1660d5ae-20c1-4f87-9926-9e9c25e7e73c",
   "metadata": {},
   "outputs": [],
   "source": [
    "import mode\n",
    "mode.ev(\"\"\"\n",
    "Manipulate[\n",
    "    Demo`Plot3D[\n",
    "        Sin[(x^2+y^2)*freq] / Sqrt[x^2+y^2+1] * amp, {x,-3,3}, {y,-3,3},\n",
    "        PlotPoints -> {200,200}, PlotRange -> {Automatic, Automatic, {-0.25,0.5}}\n",
    "    ],\n",
    "    {{freq,1.0}, 0.1, 2.0, 0.2}, (* freq slider spec *)\n",
    "    {{amp,1.0}, 0.0, 2.0, 0.2}  (* amp slider spec *)\n",
    "]\n",
    "\"\"\")"
   ]
  },
  {
   "cell_type": "code",
   "execution_count": null,
   "id": "ccdcd97b-3c5c-4750-a570-98a914eb250e",
   "metadata": {},
   "outputs": [],
   "source": [
    "mode.ev(\"\"\"\n",
    "Grid[{\n",
    "    {\n",
    "        \"This\",\n",
    "        Demo`Plot3D[\n",
    "            Sin[x]*Cos[y], {x,0,10}, {y,0,10},\n",
    "            PlotPoints->{200,200}, Axes->False, ImageSize->100\n",
    "        ],\n",
    "\n",
    "        \"is a\"\n",
    "    },\n",
    "    {\n",
    "        Demo`Plot3D[\n",
    "            Sin[(x^2+y^2)] / Sqrt[x^2+y^2+1], {x,-3,3}, {y,-3,3},\n",
    "            PlotPoints->{200,200}, Axes->False, ImageSize->100\n",
    "        ],\n",
    "        \"grid\",\n",
    "        x+y^2\n",
    "    }\n",
    "}]\n",
    "\"\"\")"
   ]
  },
  {
   "cell_type": "code",
   "execution_count": null,
   "id": "0bff5761-acc4-4239-9b3a-975ef5841873",
   "metadata": {},
   "outputs": [],
   "source": [
    "mode.ev(\"\"\"\n",
    "(* mixed non-math, math, and graphics *)\n",
    "(* TODO: mathjax makes nested exponents too small? can it be tweaked? *)\n",
    "Foo[\n",
    "    x+y, x+y^2^3^4^x, Nest[Sin[a+b]+Cos[3z]], \"hi\",\n",
    "    Demo`Plot3D[Sin[x]*Cos[y], {x,-3,3}, {y,-3,3}, PlotPoints -> {200,200}, ImageSize->100, Axes->False]\n",
    "\n",
    "]\n",
    "\"\"\")"
   ]
  },
  {
   "cell_type": "code",
   "execution_count": null,
   "id": "df4de8d7-bb21-4a8a-b760-7b59584bcf4d",
   "metadata": {},
   "outputs": [],
   "source": []
  }
 ],
 "metadata": {
  "kernelspec": {
   "display_name": "Python 3 (ipykernel)",
   "language": "python",
   "name": "python3"
  },
  "language_info": {
   "codemirror_mode": {
    "name": "ipython",
    "version": 3
   },
   "file_extension": ".py",
   "mimetype": "text/x-python",
   "name": "python",
   "nbconvert_exporter": "python",
   "pygments_lexer": "ipython3",
   "version": "3.12.10"
  }
 },
 "nbformat": 4,
 "nbformat_minor": 5
}
